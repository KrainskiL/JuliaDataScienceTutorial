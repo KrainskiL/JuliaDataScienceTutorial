{
 "cells": [
  {
   "cell_type": "markdown",
   "metadata": {},
   "source": [
    "# OLS Regression Model"
   ]
  },
  {
   "cell_type": "markdown",
   "metadata": {},
   "source": [
    "## 1. Practical verification of Ordinary Least Squares properties using simulations in Julia:\n",
    "#### Loading installed packages\n"
   ]
  },
  {
   "cell_type": "code",
   "execution_count": null,
   "metadata": {},
   "outputs": [],
   "source": [
    "using Random \n",
    "using DataFrames \n",
    "using Plots \n",
    "using Statistics \n",
    "using GLM # package for estimating Generalized Linear Models \n",
    "using Markdown"
   ]
  },
  {
   "cell_type": "code",
   "execution_count": null,
   "metadata": {},
   "outputs": [],
   "source": [
    "Random.seed!(1); # Setting a seed for random number generating to ensure a replicability"
   ]
  },
  {
   "cell_type": "markdown",
   "metadata": {},
   "source": [
    "### a. Synthetic data simulation according to linear regression (LR) Data Generating Process,\n",
    "\n",
    "#### Defining Data Generating Process (DGP)\n",
    "\n",
    "A regional convenience store sells among others a bottled still water. Historically, the store set a price for this bottled water in relation to outside temperature, i.e. the higher temperarutre the higher price.\n",
    "You'll be provided with a historical demand data composed of: temperature, rainfall, price and sales volume.\n",
    "Our task for today is to find out the relationship between price and sales volume, so the store will be able to set the optimal price based on this relationship.\n",
    "\n",
    "*dgp()* function simulates weekly store demand data for bottled still water and is composed of following variables / columns:\n",
    "- temperature - average of temperature in Celcius degrees, an exogenous variable, non-depndent on remaining variables:\n",
    "\n",
    "    $temperature_t = 10 + 5 \\times \\epsilon_t^{temperature}$\n",
    "- rainfall - a weekly average of rainfall, correlated positively with temperature:\n",
    "\n",
    "    $rainfall_t = max(0, temperature_t - 10 + 5 \\times \\epsilon_t^{rainfall}$)\n",
    "- price - in Dollars for a large pack, driven positively by an average temperarture:\n",
    "\n",
    "    $price_t = 14 + \\frac{1}{10} \\times temperature_t + \\epsilon_t^{price}$\n",
    "- demand - sales volume in unites, dependent negatively on  price and positivaly on temperature:\n",
    "\n",
    "    $demand_t = \\beta_0 + \\beta_1\\times price_t+\\beta_2\\times temperature_t+\\epsilon_t^{demand}$.\n",
    "\n",
    "Where:\n",
    "- $\\epsilon_t^{variable} \\overset{\\text{iid}}{\\sim} \\mathcal{N}(0, 1)$, $variable \\in \\{temperature, rainfall, price, demand\\}$,\n",
    "- $t\\in\\{1, ..., N\\}$, $N$ - number of historical weeks."
   ]
  },
  {
   "cell_type": "code",
   "execution_count": null,
   "metadata": {},
   "outputs": [],
   "source": [
    "function dgp(;\n",
    "             N = 100, # number of observations\n",
    "             β₀ = 30.0, # intercept / bias of linear regression, to be alligned with the rest of βs\n",
    "             β₁ = -1.0, # 1st coefficient measuring the impact of price on demand / sales volume\n",
    "             β₂ = 0.25) # 2nd coefficient measuring the impact of temperature on demand / sales volume \n",
    "    temperature = 10 .+ 5 * randn(N) \n",
    "    rainfall = max.(0, temperature .- 10 + 5 * randn(N)) # rainfall depedends positively on temperature\n",
    "    price = 14 .+ temperature / 10 + randn(N) / 2 # price depends positively on temperature\n",
    "    demand = β₀ .+ β₁ * price + β₂ * temperature  + randn(N) \n",
    "    return DataFrame(; price, temperature, rainfall, demand)\n",
    "end \n",
    "# footnote: an alternative function is make_regression() from MLJ pakcage"
   ]
  },
  {
   "cell_type": "markdown",
   "metadata": {},
   "source": [
    "Generating a single dataset:"
   ]
  },
  {
   "cell_type": "code",
   "execution_count": null,
   "metadata": {},
   "outputs": [],
   "source": [
    "dataset = dgp()"
   ]
  },
  {
   "cell_type": "markdown",
   "metadata": {},
   "source": [
    "### b. Visualization of simulated data\n",
    "\n",
    "Histogram of independent temperature variable:"
   ]
  },
  {
   "cell_type": "code",
   "execution_count": null,
   "metadata": {},
   "outputs": [],
   "source": [
    "histogram(dataset.temperature,\n",
    "          xlab = \"Temperature\",\n",
    "          bins = 15,\n",
    "          legend = false)"
   ]
  },
  {
   "cell_type": "markdown",
   "metadata": {},
   "source": [
    "Scatterplot of temperature (x) impacting rainfall and price (y's):"
   ]
  },
  {
   "cell_type": "code",
   "execution_count": null,
   "metadata": {},
   "outputs": [],
   "source": [
    "scatter(dataset.temperature,\n",
    "        Matrix(dataset[!, [:price,:rainfall]]),\n",
    "        layout = (2, 1),\n",
    "        xlabel = \"Temperature\",\n",
    "        ylabel = [\"Price\" \"Rainfall\"],\n",
    "        legend = false)"
   ]
  },
  {
   "cell_type": "markdown",
   "metadata": {},
   "source": [
    "Pearson correlations between temperature and [rainfall, price]:\n"
   ]
  },
  {
   "cell_type": "code",
   "execution_count": null,
   "metadata": {},
   "outputs": [],
   "source": [
    "cor(dataset.temperature,\n",
    "    Matrix(dataset[!, [:price, :rainfall]]))"
   ]
  },
  {
   "cell_type": "markdown",
   "metadata": {},
   "source": [
    "Scatterplot of demand vs temperature, rainfall and price:"
   ]
  },
  {
   "cell_type": "code",
   "execution_count": null,
   "metadata": {},
   "outputs": [],
   "source": [
    "scatter(Matrix(dataset[!, 1:3]),\n",
    "        dataset.demand,\n",
    "        layout = (1, 3),\n",
    "        ylabel = \"Demand\",\n",
    "        xlabel = [\"Price\" \"Temperature\" \"Rainfall\"],\n",
    "        legend = false)"
   ]
  },
  {
   "cell_type": "markdown",
   "metadata": {},
   "source": [
    "Pearson correlations between demand and [temperature, rainfall, price]"
   ]
  },
  {
   "cell_type": "code",
   "execution_count": null,
   "metadata": {},
   "outputs": [],
   "source": [
    "cor(Matrix(dataset[!, 1:3]),\n",
    "     dataset.demand)"
   ]
  },
  {
   "cell_type": "markdown",
   "metadata": {},
   "source": [
    "### c. Linear Regression estimation using Ordinary Least Squares (OLS)"
   ]
  },
  {
   "cell_type": "markdown",
   "metadata": {},
   "source": [
    "#### Our own algebraic matrix implementation\n",
    "\n",
    "Defining an estimating function:\n"
   ]
  },
  {
   "cell_type": "code",
   "execution_count": null,
   "metadata": {},
   "outputs": [],
   "source": [
    "least_squares(x, y) =  [ones(size(y)) x] \\ y"
   ]
  },
  {
   "cell_type": "markdown",
   "metadata": {},
   "source": [
    "Using this function to estimate our linear regression:"
   ]
  },
  {
   "cell_type": "code",
   "execution_count": null,
   "metadata": {},
   "outputs": [],
   "source": [
    "βs = least_squares(Matrix(dataset[!, 1:3]), dataset.demand)"
   ]
  },
  {
   "cell_type": "markdown",
   "metadata": {},
   "source": [
    "#### GLM package implementation\n",
    "\n",
    "Defining model specification\n"
   ]
  },
  {
   "cell_type": "code",
   "execution_count": null,
   "metadata": {},
   "outputs": [],
   "source": [
    "specification = @formula(demand ~ price + temperature + rainfall)"
   ]
  },
  {
   "cell_type": "markdown",
   "metadata": {},
   "source": [
    "Estimating a specified model on a given dataset:"
   ]
  },
  {
   "cell_type": "code",
   "execution_count": null,
   "metadata": {},
   "outputs": [],
   "source": [
    "fitted_OLS = lm(specification, dataset)"
   ]
  },
  {
   "cell_type": "markdown",
   "metadata": {},
   "source": [
    "R² calculation:\n"
   ]
  },
  {
   "cell_type": "code",
   "execution_count": null,
   "metadata": {},
   "outputs": [],
   "source": [
    "R² = r2(fitted_OLS)"
   ]
  },
  {
   "cell_type": "markdown",
   "metadata": {},
   "source": [
    "### e. Demonstration of unbiasedness OLS property using Monte Carlo (MC) simulations\n"
   ]
  },
  {
   "cell_type": "markdown",
   "metadata": {},
   "source": [
    "Initializing empty arrays to be populated by MC simulations' results "
   ]
  },
  {
   "cell_type": "code",
   "execution_count": null,
   "metadata": {},
   "outputs": [],
   "source": [
    "estimation_columns =  [\"β₀\", \"β₁\", \"β₂\", \"β₃\", \"β₃ p-value\", \"R²\"]\n",
    "estimation_results = DataFrame([column_name => Float64[] for column_name in estimation_columns])"
   ]
  },
  {
   "cell_type": "markdown",
   "metadata": {},
   "source": [
    "Setting up a number of Monte Carlo simulations:"
   ]
  },
  {
   "cell_type": "code",
   "execution_count": null,
   "metadata": {},
   "outputs": [],
   "source": [
    "N = 100_000"
   ]
  },
  {
   "cell_type": "markdown",
   "metadata": {},
   "source": [
    "Running Monte Carlo Simulations:\n"
   ]
  },
  {
   "cell_type": "code",
   "execution_count": null,
   "metadata": {},
   "outputs": [],
   "source": [
    "for i in 1:N\n",
    "   dataset = dgp() # Data generation \n",
    "   fitted_OLS = lm(specification, dataset) # OLS fitting\n",
    "   push!(estimation_results,\n",
    "          [coef(fitted_OLS)[1:4] \n",
    "          DataFrame(coeftable(fitted_OLS))[4, 5]\n",
    "          r2(fitted_OLS)]) \n",
    "end"
   ]
  },
  {
   "cell_type": "code",
   "execution_count": null,
   "metadata": {},
   "outputs": [],
   "source": [
    "estimation_results"
   ]
  },
  {
   "cell_type": "markdown",
   "metadata": {},
   "source": [
    "Sampling distribution of intercept OLS estimates"
   ]
  },
  {
   "cell_type": "code",
   "execution_count": null,
   "metadata": {},
   "outputs": [],
   "source": [
    "histogram(estimation_results.β₀,\n",
    "    title = \"Monte Carlo approximation of\n",
    "    sampling distribution of intercept OLS estimates\",\n",
    "    xlabel = \"Intercept\",\n",
    "    legend = false)"
   ]
  },
  {
   "cell_type": "markdown",
   "metadata": {},
   "source": [
    "Key takeaways from sampling distribution of OLS intercept (β₀) estimates:"
   ]
  },
  {
   "cell_type": "code",
   "execution_count": null,
   "metadata": {
    "scrolled": false
   },
   "outputs": [],
   "source": [
    "display(md\"\"\"\n",
    "The intercept (β₀) estimated by Ordianary Least Squares (OLS) at the value of \n",
    "**$(round(DataFrame(coeftable(fitted_OLS))[1, 2], sigdigits = 3))**,\n",
    "can be considered as a random variable derived from so called sampling distribution that \n",
    "we approximated (see histogram) through Monte Carlo simulations with:\n",
    "1. a mean of **$(round(mean(estimation_results.β₀), sigdigits = 3))**\n",
    "    equal to the true value of this parameter (unbiasedness property of an estimator),\n",
    "2. a standard deviation (called standard error of this estimate) of **$(round(std(estimation_results.β₀), sigdigits = 3))** \n",
    "    being estimated by OLS to be \n",
    "    **$(round(DataFrame(coeftable(fitted_OLS))[1, 3],sigdigits = 3))**\n",
    "    which is the minimal possible standard error (efficiency property of an estimator)\n",
    "3. 95%-Confidence Interval of\n",
    "    **$(string(round.(quantile(estimation_results.β₀, [0.025, 0.975]), sigdigits = 3)))**\n",
    "    being estimated by OLS to be **$(string(round.(Vector(DataFrame(coeftable(fitted_OLS))[1, 6:7]), sigdigits = 3)))**.\n",
    "\n",
    "Let us have a look at a last complete table:\n",
    "<div>\n",
    "$(PrettyTables.pretty_table(String, DataFrame(coeftable(fitted_OLS)),tf=PrettyTables.tf_html_dark))\n",
    "</div>\n",
    "\"\"\")\n"
   ]
  },
  {
   "cell_type": "markdown",
   "metadata": {},
   "source": [
    "Sampling distribution of temperature, price and rainfall OLS estimates:"
   ]
  },
  {
   "cell_type": "code",
   "execution_count": null,
   "metadata": {},
   "outputs": [],
   "source": [
    "histogram(Matrix(estimation_results[!,2:4]),\n",
    "    bins = 25, xlabel = \"Estimate\",\n",
    "    labels = [\"β₁ (price)\" \"β₂ (temperature)\" \"β₃ (rainfall)\"],\n",
    "    title = \"MC approxim. of sampling distributions of\n",
    "    temperature, price and rainfall OLS estimates\")"
   ]
  },
  {
   "cell_type": "markdown",
   "metadata": {},
   "source": [
    "Key takeaways from sampling distribution of OLS temperature estimates"
   ]
  },
  {
   "cell_type": "code",
   "execution_count": null,
   "metadata": {},
   "outputs": [],
   "source": [
    "display(md\"\"\"\n",
    "The price impact coefficient (β₁) estimated by Ordianary Least Squares (OLS) at the value of ≈ **$(round(DataFrame(coeftable(fitted_OLS))[2, 2], sigdigits = 3))** can be considered as a random variable derived from so called sampling distribution that we approximated (see a blue histogram) through Monte Carlo simulations with:\n",
    "1. a mean of ≈ **$(round(mean(estimation_results.β₁), sigdigits = 3))** equal to the true value of this parameter (unbiasedness property of an estimator),\n",
    "2. a standard deviation (called standard error of this estimate) of ≈**$(round(std(estimation_results.β₁), sigdigits = 3))** being estimated by OLS to be **$(round(DataFrame(coeftable(fitted_OLS))[2, 3], sigdigits = 3))** - the minimal possible standard error (efficiency property of an estimator),\n",
    "3.  95%-Confidence Interval of ≈ **$(round.(quantile(estimation_results.β₁, [0.025, 0.975]), sigdigits = 3))** being estimated by OLS to be **$(round.(Array(DataFrame(coeftable(fitted_OLS))[2, 6:7]), sigdigits = 3))**.\n",
    "\"\"\")"
   ]
  },
  {
   "cell_type": "markdown",
   "metadata": {},
   "source": [
    "Key takeaways from sampling distribution of price OLS estimates"
   ]
  },
  {
   "cell_type": "code",
   "execution_count": null,
   "metadata": {},
   "outputs": [],
   "source": [
    "println(\"The temperature impact coefficient (β₂) estimated by Ordianary Least Squares (OLS) at the value of ≈\",\n",
    "    round(DataFrame(coeftable(fitted_OLS))[3, 2],\n",
    "        sigdigits = 3),\n",
    "    \" can be considered as a random variable derived from so called sampling distribution that we approximated (see an orange histogram) through Monte Carlo simulations with:\\n\",\n",
    "    \"(1) a mean of ≈\",\n",
    "    round(mean(estimation_results.β₂), sigdigits = 3),\n",
    "    \" equal to the true value of this parameter (unbiasedness property of an estimator),\\n\",\n",
    "    \"(2) a standard deviation (called standard error of this estimate) of ≈\",\n",
    "    round(std(estimation_results.β₂), sigdigits = 3),\n",
    "    \" being estimated by OLS to be \",\n",
    "    round(DataFrame(coeftable(fitted_OLS))[3, 3],\n",
    "        sigdigits = 3),\n",
    "    \" - the minimal possible standard error (efficiency property of an estimator),\\n\",\n",
    "    \"(3) 95%-Confidence Interval of ≈\",\n",
    "    round.(quantile(estimation_results.β₂, [0.025, 0.975]),\n",
    "        sigdigits = 3),\n",
    "    \" being estimated by OLS to be \",\n",
    "    round.(Array(DataFrame(coeftable(fitted_OLS))[3, 6:7]),\n",
    "        sigdigits = 3),\n",
    "    \".\")"
   ]
  },
  {
   "cell_type": "markdown",
   "metadata": {},
   "source": [
    "Key takeaways from sampling distribution of rainfall OLS estimates:"
   ]
  },
  {
   "cell_type": "code",
   "execution_count": null,
   "metadata": {},
   "outputs": [],
   "source": [
    "println(\"The rainfall impact coefficient (β₃) estimated by Ordianary Least Squares (OLS) at the value of ≈\",\n",
    "    round(DataFrame(coeftable(fitted_OLS))[4, 2],\n",
    "        sigdigits = 3),\n",
    "    \" can be considered as a random variable derived from so called sampling distribution that we approximated (see a green histogram) through Monte Carlo simulations with:\\n\",\n",
    "    \"(1) a mean of ≈\",\n",
    "    round(mean(estimation_results.β₃), sigdigits = 3),\n",
    "    \" equal to the true value of this parameter (unbiasedness property of an estimator),\\n\",\n",
    "    \"(2) a standard deviation (called standard error of this estimate) of ≈\",\n",
    "    round(std(estimation_results.β₃), sigdigits = 3),\n",
    "    \" being estimated by OLS to be \",\n",
    "    round(DataFrame(coeftable(fitted_OLS))[4, 3],\n",
    "        sigdigits = 3),\n",
    "    \" - the minimal possible standard error (efficiency property of an estimator),\\n\",\n",
    "    \"(3) 95%-Confidence Interval of ≈\",\n",
    "    round.(quantile(estimation_results.β₃, [0.025, 0.975]),\n",
    "        sigdigits = 3),\n",
    "    \" being estimated by OLS to be \",\n",
    "    round.(Array(DataFrame(coeftable(fitted_OLS))[4, 6:7]),\n",
    "        sigdigits = 3),\n",
    "    \".\")"
   ]
  },
  {
   "cell_type": "markdown",
   "metadata": {},
   "source": [
    "Sampling distribution of rainfall significance test p-values:"
   ]
  },
  {
   "cell_type": "code",
   "execution_count": null,
   "metadata": {},
   "outputs": [],
   "source": [
    "histogram(estimation_results.\"β₃ p-value\",\n",
    "    xlabel = \"p-value of rainfall test of significance\",\n",
    "    title = \"Sampling distribution of\n",
    "    rainfall (β₃) significance test p-values\",\n",
    "    legend = false)\n"
   ]
  },
  {
   "cell_type": "markdown",
   "metadata": {},
   "source": [
    "Key takeaways from Sampling distribution of rainfall significance test p-values:"
   ]
  },
  {
   "cell_type": "code",
   "execution_count": null,
   "metadata": {},
   "outputs": [],
   "source": [
    "print(\"Given the null hypothesis of no impact of rainfall being true, the sampling distribution of p-values will be uniform on [0, 1] - see a histogram above.\")\n",
    "println(\"As a result, using the significance level of α = 5% will result in rejecting the true null hypothesis (so called type I error or false positive) of no rainflall impact on demand as often as \",\n",
    "    round(mean(estimation_results.\"β₃ p-value\" .< 0.05), sigdigits = 3) * 100,\n",
    "    \"% of times (being equal to α = 5%).\"\n",
    ")"
   ]
  },
  {
   "cell_type": "markdown",
   "metadata": {},
   "source": [
    "Key takeaways:\n",
    "- It's unavoidable to make a type I error (false positive), so be aware of it, whenever you claim the impact of X, e.g. rainfall,  on Y, e.g. demand,\n",
    "- You're controlling the probability of type I error (false positive) by setting up the significance level, e.g. α ∈ [1%, 5%, 10%],,\n",
    "- However, there's no free lunch, but a trade-off, since the lower the probability of false positive, e.g. α ∈ [1%, 5%, 10%], the higher the probability of so called type II error (false negative), which is failing to reject a false null hypothesis. This type of error is higher the smaller data is, so you might want to choose higher α e.g. 5%, 10% for smaller data and smaller  α e.g. 1% or 5% for bigger data."
   ]
  },
  {
   "cell_type": "markdown",
   "metadata": {},
   "source": [
    "Key takeaways from Sampling distribution of R²"
   ]
  },
  {
   "cell_type": "code",
   "execution_count": null,
   "metadata": {},
   "outputs": [],
   "source": [
    "println(\"The coefficient of determination (R²) estimated by Ordianary Least Squares (OLS) at the value of ≈\",\n",
    "    round(r2(fitted_OLS), sigdigits = 3),\n",
    "    \" can be considered as a random variable derived from so called sampling distribution that we approximated through Monte Carlo simulations with:\\n\",\n",
    "    \"(1) a mean of ≈\",\n",
    "    round(mean(estimation_results.R²), sigdigits = 3),\n",
    "    \"\\n(2) a standard deviation (called standard error of this estimate) of ≈\",\n",
    "    round(std(estimation_results.R²), sigdigits = 3),\n",
    "    \"\\n(3) 95%-Confidence Interval of ≈\",\n",
    "    round.(quantile(estimation_results.R², [0.025, 0.975]),\n",
    "        sigdigits = 3),\n",
    "    \".\")"
   ]
  },
  {
   "cell_type": "markdown",
   "metadata": {},
   "source": [
    "### g. Coefficient biasedness due to correlated omitted variable\n"
   ]
  },
  {
   "cell_type": "markdown",
   "metadata": {},
   "source": [
    "Defining a simple but wrong specification omitting both temperature and rainfall:\n"
   ]
  },
  {
   "cell_type": "code",
   "execution_count": null,
   "metadata": {},
   "outputs": [],
   "source": [
    "wrong_specification = @formula(demand ~ price)"
   ]
  },
  {
   "cell_type": "markdown",
   "metadata": {},
   "source": [
    "Estimating a wrongly specified model:"
   ]
  },
  {
   "cell_type": "code",
   "execution_count": null,
   "metadata": {},
   "outputs": [],
   "source": [
    "wrong_spec_model = lm(wrong_specification, dataset)"
   ]
  },
  {
   "cell_type": "markdown",
   "metadata": {},
   "source": [
    "Initializing an empty array to be popoulated by price coefficients:"
   ]
  },
  {
   "cell_type": "code",
   "execution_count": null,
   "metadata": {},
   "outputs": [],
   "source": [
    "biased_estimate_names =  [\"β₁\", \"β₁ p-value\"]\n",
    "biased_estimates = DataFrame([column_name => Float64[] for column_name in biased_estimate_names])"
   ]
  },
  {
   "cell_type": "markdown",
   "metadata": {},
   "source": [
    "Running Monte Carlo Simulations:"
   ]
  },
  {
   "cell_type": "code",
   "execution_count": null,
   "metadata": {},
   "outputs": [],
   "source": [
    "for i in 1:N\n",
    "  dataset = dgp() # data generation\n",
    "  wrong_spec_model = lm(wrong_specification, dataset) # wrong model fitting\n",
    "  push!(biased_estimates, [coef(wrong_spec_model)[2] DataFrame(coeftable(wrong_spec_model))[2, 5]])\n",
    "end"
   ]
  },
  {
   "cell_type": "markdown",
   "metadata": {},
   "source": [
    "Sampling distribution of price coefficient in a wrongly specified model:"
   ]
  },
  {
   "cell_type": "code",
   "execution_count": null,
   "metadata": {},
   "outputs": [],
   "source": [
    "biased_estimates"
   ]
  },
  {
   "cell_type": "code",
   "execution_count": null,
   "metadata": {},
   "outputs": [],
   "source": [
    "histogram(Matrix(biased_estimates),\n",
    "    fillalpha=0.5,\n",
    "    xlabel = \"β₁ (price) estimate / p-value\",\n",
    "    ylabel = \"Frequency\",\n",
    "    title = \"Sampling distribution of rainfall (β₃)\n",
    "    estimates & significance test p-values\",\n",
    "    labels = [\"β₁ (price) estimates\" \"β₁ = 0 test p-values\"])"
   ]
  },
  {
   "cell_type": "markdown",
   "metadata": {},
   "source": [
    "Calculating a bias being a difference between the expected value of an estimate and a true value:"
   ]
  },
  {
   "cell_type": "code",
   "execution_count": null,
   "metadata": {},
   "outputs": [],
   "source": [
    "bias =  mean(biased_estimates.β₁) - (-1)"
   ]
  },
  {
   "cell_type": "markdown",
   "metadata": {},
   "source": [
    "Main takeaways from omitted variable problem:\n"
   ]
  },
  {
   "cell_type": "code",
   "execution_count": null,
   "metadata": {},
   "outputs": [],
   "source": [
    "println(\"OLS estimate of price coefficient is biased, i.e. systematically being wrong with an expected value of ≈\",\n",
    "    round(mean(biased_estimates.β₁), sigdigits = 3),\n",
    "    \".\\nGiven a true price coefficient value of -1, the total bias is equal to (\",\n",
    "    round(mean(biased_estimates.β₁), sigdigits = 3),\n",
    "    \" - (-1)) = \", round(bias, sigdigits = 3))\n",
    "println(\"This bias is due to the omitted variable, i.e. temperature impacting both price and demand, e.g. ommiting a rainfall doesn't result in a bias even though it is correlated with price but not impacting a demand.\")\n",
    "println(\"Since the temprerature is impacting both demand and price, when ommited its postive impact on demand is overtaken by the price, which results in a biased price impact estimation.\") \n"
   ]
  },
  {
   "cell_type": "markdown",
   "metadata": {},
   "source": [
    "*Preparation of this workshop has been supported by the Polish National Agency for Academic Exchange under the Strategic Partnerships programme, grant number BPI/PST/2021/1/00069/U/00001.*\n",
    "\n",
    "![SGH & NAWA](../logo.png)"
   ]
  }
 ],
 "metadata": {
  "kernelspec": {
   "display_name": "Julia 1.9.2",
   "language": "julia",
   "name": "julia-1.9"
  },
  "language_info": {
   "file_extension": ".jl",
   "mimetype": "application/julia",
   "name": "julia",
   "version": "1.9.2"
  }
 },
 "nbformat": 4,
 "nbformat_minor": 2
}
